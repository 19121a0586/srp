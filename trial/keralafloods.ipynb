{
 "cells": [
  {
   "cell_type": "code",
   "execution_count": 3,
   "id": "8d6d39d2",
   "metadata": {},
   "outputs": [],
   "source": [
    "import pandas as pd\n",
    "import numpy as np\n",
    "import matplotlib.pyplot as plt\n",
    "fl=pd.read_csv(\"keralafloods.csv\")"
   ]
  },
  {
   "cell_type": "code",
   "execution_count": 4,
   "id": "107f6e5c",
   "metadata": {},
   "outputs": [
    {
     "data": {
      "text/html": [
       "<div>\n",
       "<style scoped>\n",
       "    .dataframe tbody tr th:only-of-type {\n",
       "        vertical-align: middle;\n",
       "    }\n",
       "\n",
       "    .dataframe tbody tr th {\n",
       "        vertical-align: top;\n",
       "    }\n",
       "\n",
       "    .dataframe thead th {\n",
       "        text-align: right;\n",
       "    }\n",
       "</style>\n",
       "<table border=\"1\" class=\"dataframe\">\n",
       "  <thead>\n",
       "    <tr style=\"text-align: right;\">\n",
       "      <th></th>\n",
       "      <th>Cities</th>\n",
       "      <th>year</th>\n",
       "      <th>may</th>\n",
       "      <th>june</th>\n",
       "      <th>july</th>\n",
       "      <th>temperature</th>\n",
       "      <th>altitude</th>\n",
       "      <th>avg</th>\n",
       "      <th>label</th>\n",
       "    </tr>\n",
       "  </thead>\n",
       "  <tbody>\n",
       "    <tr>\n",
       "      <th>0</th>\n",
       "      <td>ALAPPUZHA</td>\n",
       "      <td>2001</td>\n",
       "      <td>298.70</td>\n",
       "      <td>177.90</td>\n",
       "      <td>177.90</td>\n",
       "      <td>24</td>\n",
       "      <td>390</td>\n",
       "      <td>218.166667</td>\n",
       "      <td>1</td>\n",
       "    </tr>\n",
       "    <tr>\n",
       "      <th>1</th>\n",
       "      <td>ALAPPUZHA</td>\n",
       "      <td>2003</td>\n",
       "      <td>118.60</td>\n",
       "      <td>118.60</td>\n",
       "      <td>59.30</td>\n",
       "      <td>21</td>\n",
       "      <td>390</td>\n",
       "      <td>98.833333</td>\n",
       "      <td>0</td>\n",
       "    </tr>\n",
       "    <tr>\n",
       "      <th>2</th>\n",
       "      <td>ALAPPUZHA</td>\n",
       "      <td>2000</td>\n",
       "      <td>89.61</td>\n",
       "      <td>89.61</td>\n",
       "      <td>59.74</td>\n",
       "      <td>23</td>\n",
       "      <td>390</td>\n",
       "      <td>79.653333</td>\n",
       "      <td>0</td>\n",
       "    </tr>\n",
       "    <tr>\n",
       "      <th>3</th>\n",
       "      <td>ANGUL</td>\n",
       "      <td>2001</td>\n",
       "      <td>55.40</td>\n",
       "      <td>61.74</td>\n",
       "      <td>61.74</td>\n",
       "      <td>21</td>\n",
       "      <td>276</td>\n",
       "      <td>59.626667</td>\n",
       "      <td>0</td>\n",
       "    </tr>\n",
       "    <tr>\n",
       "      <th>4</th>\n",
       "      <td>ANGUL</td>\n",
       "      <td>2003</td>\n",
       "      <td>41.16</td>\n",
       "      <td>41.16</td>\n",
       "      <td>20.58</td>\n",
       "      <td>25</td>\n",
       "      <td>276</td>\n",
       "      <td>34.300000</td>\n",
       "      <td>0</td>\n",
       "    </tr>\n",
       "  </tbody>\n",
       "</table>\n",
       "</div>"
      ],
      "text/plain": [
       "      Cities  year     may    june    july  temperature  altitude         avg  \\\n",
       "0  ALAPPUZHA  2001  298.70  177.90  177.90           24       390  218.166667   \n",
       "1  ALAPPUZHA  2003  118.60  118.60   59.30           21       390   98.833333   \n",
       "2  ALAPPUZHA  2000   89.61   89.61   59.74           23       390   79.653333   \n",
       "3      ANGUL  2001   55.40   61.74   61.74           21       276   59.626667   \n",
       "4      ANGUL  2003   41.16   41.16   20.58           25       276   34.300000   \n",
       "\n",
       "   label  \n",
       "0      1  \n",
       "1      0  \n",
       "2      0  \n",
       "3      0  \n",
       "4      0  "
      ]
     },
     "execution_count": 4,
     "metadata": {},
     "output_type": "execute_result"
    }
   ],
   "source": [
    "fl.head()"
   ]
  },
  {
   "cell_type": "code",
   "execution_count": 5,
   "id": "00312c7f",
   "metadata": {},
   "outputs": [
    {
     "data": {
      "text/html": [
       "<div>\n",
       "<style scoped>\n",
       "    .dataframe tbody tr th:only-of-type {\n",
       "        vertical-align: middle;\n",
       "    }\n",
       "\n",
       "    .dataframe tbody tr th {\n",
       "        vertical-align: top;\n",
       "    }\n",
       "\n",
       "    .dataframe thead th {\n",
       "        text-align: right;\n",
       "    }\n",
       "</style>\n",
       "<table border=\"1\" class=\"dataframe\">\n",
       "  <thead>\n",
       "    <tr style=\"text-align: right;\">\n",
       "      <th></th>\n",
       "      <th>Cities</th>\n",
       "      <th>year</th>\n",
       "      <th>may</th>\n",
       "      <th>june</th>\n",
       "      <th>july</th>\n",
       "      <th>temperature</th>\n",
       "      <th>altitude</th>\n",
       "      <th>avg</th>\n",
       "      <th>label</th>\n",
       "    </tr>\n",
       "  </thead>\n",
       "  <tbody>\n",
       "    <tr>\n",
       "      <th>0</th>\n",
       "      <td>ALAPPUZHA</td>\n",
       "      <td>2001</td>\n",
       "      <td>298.70</td>\n",
       "      <td>177.90</td>\n",
       "      <td>177.90</td>\n",
       "      <td>24</td>\n",
       "      <td>390</td>\n",
       "      <td>218.166667</td>\n",
       "      <td>1</td>\n",
       "    </tr>\n",
       "    <tr>\n",
       "      <th>1</th>\n",
       "      <td>ALAPPUZHA</td>\n",
       "      <td>2003</td>\n",
       "      <td>118.60</td>\n",
       "      <td>118.60</td>\n",
       "      <td>59.30</td>\n",
       "      <td>21</td>\n",
       "      <td>390</td>\n",
       "      <td>98.833333</td>\n",
       "      <td>0</td>\n",
       "    </tr>\n",
       "    <tr>\n",
       "      <th>2</th>\n",
       "      <td>ALAPPUZHA</td>\n",
       "      <td>2000</td>\n",
       "      <td>89.61</td>\n",
       "      <td>89.61</td>\n",
       "      <td>59.74</td>\n",
       "      <td>23</td>\n",
       "      <td>390</td>\n",
       "      <td>79.653333</td>\n",
       "      <td>0</td>\n",
       "    </tr>\n",
       "    <tr>\n",
       "      <th>3</th>\n",
       "      <td>ANGUL</td>\n",
       "      <td>2001</td>\n",
       "      <td>55.40</td>\n",
       "      <td>61.74</td>\n",
       "      <td>61.74</td>\n",
       "      <td>21</td>\n",
       "      <td>276</td>\n",
       "      <td>59.626667</td>\n",
       "      <td>0</td>\n",
       "    </tr>\n",
       "    <tr>\n",
       "      <th>4</th>\n",
       "      <td>ANGUL</td>\n",
       "      <td>2003</td>\n",
       "      <td>41.16</td>\n",
       "      <td>41.16</td>\n",
       "      <td>20.58</td>\n",
       "      <td>25</td>\n",
       "      <td>276</td>\n",
       "      <td>34.300000</td>\n",
       "      <td>0</td>\n",
       "    </tr>\n",
       "    <tr>\n",
       "      <th>...</th>\n",
       "      <td>...</td>\n",
       "      <td>...</td>\n",
       "      <td>...</td>\n",
       "      <td>...</td>\n",
       "      <td>...</td>\n",
       "      <td>...</td>\n",
       "      <td>...</td>\n",
       "      <td>...</td>\n",
       "      <td>...</td>\n",
       "    </tr>\n",
       "    <tr>\n",
       "      <th>127</th>\n",
       "      <td>THRISSUR</td>\n",
       "      <td>2003</td>\n",
       "      <td>141.48</td>\n",
       "      <td>141.48</td>\n",
       "      <td>70.74</td>\n",
       "      <td>26</td>\n",
       "      <td>341</td>\n",
       "      <td>117.900000</td>\n",
       "      <td>0</td>\n",
       "    </tr>\n",
       "    <tr>\n",
       "      <th>128</th>\n",
       "      <td>THRISSUR</td>\n",
       "      <td>2000</td>\n",
       "      <td>86.73</td>\n",
       "      <td>86.73</td>\n",
       "      <td>57.82</td>\n",
       "      <td>25</td>\n",
       "      <td>341</td>\n",
       "      <td>77.093333</td>\n",
       "      <td>0</td>\n",
       "    </tr>\n",
       "    <tr>\n",
       "      <th>129</th>\n",
       "      <td>WAYANAD</td>\n",
       "      <td>2003</td>\n",
       "      <td>698.10</td>\n",
       "      <td>333.12</td>\n",
       "      <td>333.12</td>\n",
       "      <td>27</td>\n",
       "      <td>214</td>\n",
       "      <td>454.780000</td>\n",
       "      <td>1</td>\n",
       "    </tr>\n",
       "    <tr>\n",
       "      <th>130</th>\n",
       "      <td>WAYANAD</td>\n",
       "      <td>2001</td>\n",
       "      <td>139.62</td>\n",
       "      <td>139.62</td>\n",
       "      <td>69.81</td>\n",
       "      <td>29</td>\n",
       "      <td>214</td>\n",
       "      <td>116.350000</td>\n",
       "      <td>0</td>\n",
       "    </tr>\n",
       "    <tr>\n",
       "      <th>131</th>\n",
       "      <td>WAYANAD</td>\n",
       "      <td>2000</td>\n",
       "      <td>52.38</td>\n",
       "      <td>52.38</td>\n",
       "      <td>34.92</td>\n",
       "      <td>27</td>\n",
       "      <td>214</td>\n",
       "      <td>46.560000</td>\n",
       "      <td>0</td>\n",
       "    </tr>\n",
       "  </tbody>\n",
       "</table>\n",
       "<p>132 rows × 9 columns</p>\n",
       "</div>"
      ],
      "text/plain": [
       "        Cities  year     may    june    july  temperature  altitude  \\\n",
       "0    ALAPPUZHA  2001  298.70  177.90  177.90           24       390   \n",
       "1    ALAPPUZHA  2003  118.60  118.60   59.30           21       390   \n",
       "2    ALAPPUZHA  2000   89.61   89.61   59.74           23       390   \n",
       "3        ANGUL  2001   55.40   61.74   61.74           21       276   \n",
       "4        ANGUL  2003   41.16   41.16   20.58           25       276   \n",
       "..         ...   ...     ...     ...     ...          ...       ...   \n",
       "127   THRISSUR  2003  141.48  141.48   70.74           26       341   \n",
       "128   THRISSUR  2000   86.73   86.73   57.82           25       341   \n",
       "129    WAYANAD  2003  698.10  333.12  333.12           27       214   \n",
       "130    WAYANAD  2001  139.62  139.62   69.81           29       214   \n",
       "131    WAYANAD  2000   52.38   52.38   34.92           27       214   \n",
       "\n",
       "            avg  label  \n",
       "0    218.166667      1  \n",
       "1     98.833333      0  \n",
       "2     79.653333      0  \n",
       "3     59.626667      0  \n",
       "4     34.300000      0  \n",
       "..          ...    ...  \n",
       "127  117.900000      0  \n",
       "128   77.093333      0  \n",
       "129  454.780000      1  \n",
       "130  116.350000      0  \n",
       "131   46.560000      0  \n",
       "\n",
       "[132 rows x 9 columns]"
      ]
     },
     "execution_count": 5,
     "metadata": {},
     "output_type": "execute_result"
    }
   ],
   "source": [
    "fl.fillna(0)"
   ]
  },
  {
   "cell_type": "code",
   "execution_count": 29,
   "id": "1e10081e",
   "metadata": {},
   "outputs": [],
   "source": [
    "x=eq.iloc[:,2:8].values\n",
    "y=eq.iloc[:,-1].values"
   ]
  },
  {
   "cell_type": "code",
   "execution_count": 30,
   "id": "90aa60a2",
   "metadata": {},
   "outputs": [
    {
     "name": "stdout",
     "output_type": "stream",
     "text": [
      "[1 0 0 0 0 0 0 0 0 0 0 0 0 0 0 0 0 0 0 0 0 1 1 0 0 0 0 0 0 0 0 0 0 1 1 0 0\n",
      " 0 0 0 0 0 1 0 0 0 0 0 0 0 0 0 0 0 0 0 0 0 0 0 1 1 0 0 0 0 0 0 0 0 0 0 1 0\n",
      " 0 0 0 0 1 1 0 1 0 0 1 1 0 0 0 0 0 0 0 0 0 0 0 0 0 0 0 0 1 0 0 1 0 0 0 0 0\n",
      " 0 0 0 0 0 0 0 0 0 0 0 0 1 0 0 1 0 0 1 0 0]\n"
     ]
    }
   ],
   "source": [
    "#print(x)\n",
    "print(y)"
   ]
  },
  {
   "cell_type": "code",
   "execution_count": 31,
   "id": "05ca2b0b",
   "metadata": {},
   "outputs": [],
   "source": [
    "from sklearn.model_selection import train_test_split\n",
    "x_train,x_test,y_train,y_test=train_test_split(x,y,test_size=0.2,random_state=0)"
   ]
  },
  {
   "cell_type": "code",
   "execution_count": 66,
   "id": "4e804098",
   "metadata": {},
   "outputs": [
    {
     "data": {
      "text/plain": [
       "LinearRegression()"
      ]
     },
     "execution_count": 66,
     "metadata": {},
     "output_type": "execute_result"
    }
   ],
   "source": [
    "from sklearn.linear_model import LinearRegression\n",
    "regg=LinearRegression()\n",
    "regg.fit(x_train,y_train)"
   ]
  },
  {
   "cell_type": "code",
   "execution_count": 67,
   "id": "43bc741a",
   "metadata": {},
   "outputs": [
    {
     "name": "stdout",
     "output_type": "stream",
     "text": [
      "-0.17137529537791296\n"
     ]
    }
   ],
   "source": [
    "print(regg.intercept_)"
   ]
  },
  {
   "cell_type": "code",
   "execution_count": 68,
   "id": "a286aefa",
   "metadata": {},
   "outputs": [
    {
     "name": "stdout",
     "output_type": "stream",
     "text": [
      "[-1.28828634e+06 -1.28828633e+06 -1.28828633e+06  6.94178905e-04\n",
      " -5.32631712e-05  3.86485901e+06]\n"
     ]
    }
   ],
   "source": [
    "print(regg.coef_)"
   ]
  },
  {
   "cell_type": "code",
   "execution_count": 69,
   "id": "c1e37e47",
   "metadata": {},
   "outputs": [
    {
     "name": "stdout",
     "output_type": "stream",
     "text": [
      "Mean squared error: 0.03\n",
      "Variance score: 0.68\n",
      "0.681721343801929\n"
     ]
    }
   ],
   "source": [
    "print(\"Mean squared error: %.2f\" % np.mean((regg.predict(x_test) - y_test) ** 2))\n",
    "print('Variance score: %.2f' % regg.score(x_test, y_test))\n",
    "r2_score = regg.score(x_test,y_test)\n",
    "print(r2_score)"
   ]
  },
  {
   "cell_type": "code",
   "execution_count": 70,
   "id": "cdcacd03",
   "metadata": {},
   "outputs": [],
   "source": [
    "para=[[118.60,10.60,59.30,21,390,98.833333]]"
   ]
  },
  {
   "cell_type": "code",
   "execution_count": 73,
   "id": "247e06d8",
   "metadata": {},
   "outputs": [
    {
     "name": "stdout",
     "output_type": "stream",
     "text": [
      "[1.39134923e+08]\n"
     ]
    }
   ],
   "source": [
    "predfl=regg.predict(para)\n",
    "print(predfl)"
   ]
  },
  {
   "cell_type": "code",
   "execution_count": 74,
   "id": "effa675f",
   "metadata": {},
   "outputs": [
    {
     "name": "stdout",
     "output_type": "stream",
     "text": [
      "floods\n"
     ]
    }
   ],
   "source": [
    "if(predfl >0):\n",
    "    print(\"floods\")\n",
    "else:\n",
    "    print(\"no floods\")"
   ]
  },
  {
   "cell_type": "code",
   "execution_count": null,
   "id": "b76da788",
   "metadata": {},
   "outputs": [],
   "source": []
  }
 ],
 "metadata": {
  "kernelspec": {
   "display_name": "Python 3",
   "language": "python",
   "name": "python3"
  },
  "language_info": {
   "codemirror_mode": {
    "name": "ipython",
    "version": 3
   },
   "file_extension": ".py",
   "mimetype": "text/x-python",
   "name": "python",
   "nbconvert_exporter": "python",
   "pygments_lexer": "ipython3",
   "version": "3.8.8"
  }
 },
 "nbformat": 4,
 "nbformat_minor": 5
}
